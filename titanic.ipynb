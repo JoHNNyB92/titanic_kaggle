{
  "nbformat": 4,
  "nbformat_minor": 0,
  "metadata": {
    "kernelspec": {
      "name": "python3",
      "display_name": "Python 3"
    },
    "language_info": {
      "codemirror_mode": {
        "name": "ipython",
        "version": 3
      },
      "file_extension": ".py",
      "mimetype": "text/x-python",
      "name": "python",
      "nbconvert_exporter": "python",
      "pygments_lexer": "ipython3",
      "version": "3.5.5"
    },
    "colab": {
      "name": "Untitled.ipynb",
      "provenance": [],
      "collapsed_sections": [],
      "toc_visible": true
    },
    "accelerator": "GPU"
  },
  "cells": [
    {
      "cell_type": "code",
      "metadata": {
        "id": "CbbOYYGxG_rO",
        "colab_type": "code",
        "colab": {}
      },
      "source": [
        "import pandas as pd \n",
        "import matplotlib.pyplot as plt\n",
        "import seaborn as sns\n",
        "import numpy as np"
      ],
      "execution_count": 0,
      "outputs": []
    },
    {
      "cell_type": "code",
      "metadata": {
        "id": "AhqNnW9GG_rY",
        "colab_type": "code",
        "colab": {}
      },
      "source": [
        "orig_test=pd.read_csv(\"test.csv\")\n",
        "orig_train = pd.read_csv(\"train.csv\")\n",
        "# Preview the first 5 lines of the loaded data "
      ],
      "execution_count": 0,
      "outputs": []
    },
    {
      "cell_type": "code",
      "metadata": {
        "id": "8-LkM1UpG_rm",
        "colab_type": "code",
        "outputId": "7e0583be-617e-4ef3-bcf7-e04592926a17",
        "colab": {
          "base_uri": "https://localhost:8080/",
          "height": 195
        }
      },
      "source": [
        "orig_test.head()"
      ],
      "execution_count": 0,
      "outputs": [
        {
          "output_type": "execute_result",
          "data": {
            "text/html": [
              "<div>\n",
              "<style scoped>\n",
              "    .dataframe tbody tr th:only-of-type {\n",
              "        vertical-align: middle;\n",
              "    }\n",
              "\n",
              "    .dataframe tbody tr th {\n",
              "        vertical-align: top;\n",
              "    }\n",
              "\n",
              "    .dataframe thead th {\n",
              "        text-align: right;\n",
              "    }\n",
              "</style>\n",
              "<table border=\"1\" class=\"dataframe\">\n",
              "  <thead>\n",
              "    <tr style=\"text-align: right;\">\n",
              "      <th></th>\n",
              "      <th>PassengerId</th>\n",
              "      <th>Pclass</th>\n",
              "      <th>Name</th>\n",
              "      <th>Sex</th>\n",
              "      <th>Age</th>\n",
              "      <th>SibSp</th>\n",
              "      <th>Parch</th>\n",
              "      <th>Ticket</th>\n",
              "      <th>Fare</th>\n",
              "      <th>Cabin</th>\n",
              "      <th>Embarked</th>\n",
              "    </tr>\n",
              "  </thead>\n",
              "  <tbody>\n",
              "    <tr>\n",
              "      <th>0</th>\n",
              "      <td>892</td>\n",
              "      <td>3</td>\n",
              "      <td>Kelly, Mr. James</td>\n",
              "      <td>male</td>\n",
              "      <td>34.5</td>\n",
              "      <td>0</td>\n",
              "      <td>0</td>\n",
              "      <td>330911</td>\n",
              "      <td>7.8292</td>\n",
              "      <td>NaN</td>\n",
              "      <td>Q</td>\n",
              "    </tr>\n",
              "    <tr>\n",
              "      <th>1</th>\n",
              "      <td>893</td>\n",
              "      <td>3</td>\n",
              "      <td>Wilkes, Mrs. James (Ellen Needs)</td>\n",
              "      <td>female</td>\n",
              "      <td>47.0</td>\n",
              "      <td>1</td>\n",
              "      <td>0</td>\n",
              "      <td>363272</td>\n",
              "      <td>7.0000</td>\n",
              "      <td>NaN</td>\n",
              "      <td>S</td>\n",
              "    </tr>\n",
              "    <tr>\n",
              "      <th>2</th>\n",
              "      <td>894</td>\n",
              "      <td>2</td>\n",
              "      <td>Myles, Mr. Thomas Francis</td>\n",
              "      <td>male</td>\n",
              "      <td>62.0</td>\n",
              "      <td>0</td>\n",
              "      <td>0</td>\n",
              "      <td>240276</td>\n",
              "      <td>9.6875</td>\n",
              "      <td>NaN</td>\n",
              "      <td>Q</td>\n",
              "    </tr>\n",
              "    <tr>\n",
              "      <th>3</th>\n",
              "      <td>895</td>\n",
              "      <td>3</td>\n",
              "      <td>Wirz, Mr. Albert</td>\n",
              "      <td>male</td>\n",
              "      <td>27.0</td>\n",
              "      <td>0</td>\n",
              "      <td>0</td>\n",
              "      <td>315154</td>\n",
              "      <td>8.6625</td>\n",
              "      <td>NaN</td>\n",
              "      <td>S</td>\n",
              "    </tr>\n",
              "    <tr>\n",
              "      <th>4</th>\n",
              "      <td>896</td>\n",
              "      <td>3</td>\n",
              "      <td>Hirvonen, Mrs. Alexander (Helga E Lindqvist)</td>\n",
              "      <td>female</td>\n",
              "      <td>22.0</td>\n",
              "      <td>1</td>\n",
              "      <td>1</td>\n",
              "      <td>3101298</td>\n",
              "      <td>12.2875</td>\n",
              "      <td>NaN</td>\n",
              "      <td>S</td>\n",
              "    </tr>\n",
              "  </tbody>\n",
              "</table>\n",
              "</div>"
            ],
            "text/plain": [
              "   PassengerId  Pclass  ... Cabin Embarked\n",
              "0          892       3  ...   NaN        Q\n",
              "1          893       3  ...   NaN        S\n",
              "2          894       2  ...   NaN        Q\n",
              "3          895       3  ...   NaN        S\n",
              "4          896       3  ...   NaN        S\n",
              "\n",
              "[5 rows x 11 columns]"
            ]
          },
          "metadata": {
            "tags": []
          },
          "execution_count": 3
        }
      ]
    },
    {
      "cell_type": "code",
      "metadata": {
        "id": "BeV6FNj5G_rr",
        "colab_type": "code",
        "outputId": "9e477c50-0b62-4d93-d873-7380b7dc0d4d",
        "colab": {
          "base_uri": "https://localhost:8080/",
          "height": 229
        }
      },
      "source": [
        "orig_train.head()"
      ],
      "execution_count": 0,
      "outputs": [
        {
          "output_type": "execute_result",
          "data": {
            "text/html": [
              "<div>\n",
              "<style scoped>\n",
              "    .dataframe tbody tr th:only-of-type {\n",
              "        vertical-align: middle;\n",
              "    }\n",
              "\n",
              "    .dataframe tbody tr th {\n",
              "        vertical-align: top;\n",
              "    }\n",
              "\n",
              "    .dataframe thead th {\n",
              "        text-align: right;\n",
              "    }\n",
              "</style>\n",
              "<table border=\"1\" class=\"dataframe\">\n",
              "  <thead>\n",
              "    <tr style=\"text-align: right;\">\n",
              "      <th></th>\n",
              "      <th>PassengerId</th>\n",
              "      <th>Survived</th>\n",
              "      <th>Pclass</th>\n",
              "      <th>Name</th>\n",
              "      <th>Sex</th>\n",
              "      <th>Age</th>\n",
              "      <th>SibSp</th>\n",
              "      <th>Parch</th>\n",
              "      <th>Ticket</th>\n",
              "      <th>Fare</th>\n",
              "      <th>Cabin</th>\n",
              "      <th>Embarked</th>\n",
              "    </tr>\n",
              "  </thead>\n",
              "  <tbody>\n",
              "    <tr>\n",
              "      <th>0</th>\n",
              "      <td>1</td>\n",
              "      <td>0</td>\n",
              "      <td>3</td>\n",
              "      <td>Braund, Mr. Owen Harris</td>\n",
              "      <td>male</td>\n",
              "      <td>22.0</td>\n",
              "      <td>1</td>\n",
              "      <td>0</td>\n",
              "      <td>A/5 21171</td>\n",
              "      <td>7.2500</td>\n",
              "      <td>NaN</td>\n",
              "      <td>S</td>\n",
              "    </tr>\n",
              "    <tr>\n",
              "      <th>1</th>\n",
              "      <td>2</td>\n",
              "      <td>1</td>\n",
              "      <td>1</td>\n",
              "      <td>Cumings, Mrs. John Bradley (Florence Briggs Th...</td>\n",
              "      <td>female</td>\n",
              "      <td>38.0</td>\n",
              "      <td>1</td>\n",
              "      <td>0</td>\n",
              "      <td>PC 17599</td>\n",
              "      <td>71.2833</td>\n",
              "      <td>C85</td>\n",
              "      <td>C</td>\n",
              "    </tr>\n",
              "    <tr>\n",
              "      <th>2</th>\n",
              "      <td>3</td>\n",
              "      <td>1</td>\n",
              "      <td>3</td>\n",
              "      <td>Heikkinen, Miss. Laina</td>\n",
              "      <td>female</td>\n",
              "      <td>26.0</td>\n",
              "      <td>0</td>\n",
              "      <td>0</td>\n",
              "      <td>STON/O2. 3101282</td>\n",
              "      <td>7.9250</td>\n",
              "      <td>NaN</td>\n",
              "      <td>S</td>\n",
              "    </tr>\n",
              "    <tr>\n",
              "      <th>3</th>\n",
              "      <td>4</td>\n",
              "      <td>1</td>\n",
              "      <td>1</td>\n",
              "      <td>Futrelle, Mrs. Jacques Heath (Lily May Peel)</td>\n",
              "      <td>female</td>\n",
              "      <td>35.0</td>\n",
              "      <td>1</td>\n",
              "      <td>0</td>\n",
              "      <td>113803</td>\n",
              "      <td>53.1000</td>\n",
              "      <td>C123</td>\n",
              "      <td>S</td>\n",
              "    </tr>\n",
              "    <tr>\n",
              "      <th>4</th>\n",
              "      <td>5</td>\n",
              "      <td>0</td>\n",
              "      <td>3</td>\n",
              "      <td>Allen, Mr. William Henry</td>\n",
              "      <td>male</td>\n",
              "      <td>35.0</td>\n",
              "      <td>0</td>\n",
              "      <td>0</td>\n",
              "      <td>373450</td>\n",
              "      <td>8.0500</td>\n",
              "      <td>NaN</td>\n",
              "      <td>S</td>\n",
              "    </tr>\n",
              "  </tbody>\n",
              "</table>\n",
              "</div>"
            ],
            "text/plain": [
              "   PassengerId  Survived  Pclass  ...     Fare Cabin  Embarked\n",
              "0            1         0       3  ...   7.2500   NaN         S\n",
              "1            2         1       1  ...  71.2833   C85         C\n",
              "2            3         1       3  ...   7.9250   NaN         S\n",
              "3            4         1       1  ...  53.1000  C123         S\n",
              "4            5         0       3  ...   8.0500   NaN         S\n",
              "\n",
              "[5 rows x 12 columns]"
            ]
          },
          "metadata": {
            "tags": []
          },
          "execution_count": 4
        }
      ]
    },
    {
      "cell_type": "code",
      "metadata": {
        "id": "UBuNSms8G_rw",
        "colab_type": "code",
        "colab": {}
      },
      "source": [
        "def prepare_data(orig_train):\n",
        "    train=orig_train.drop(['Name'], axis=1)\n",
        "    train=train.drop(['Ticket'], axis=1)\n",
        "    train=train.drop(['Cabin'], axis=1)\n",
        "    train=train.drop(['PassengerId'], axis=1)\n",
        "    train['Sex'] = train['Sex'].astype('category')\n",
        "    sex_col = train.select_dtypes(['category']).columns\n",
        "    train[sex_col] = train[sex_col].apply(lambda x: x.cat.codes)\n",
        "    train['Embarked'] = train['Embarked'].astype('category')\n",
        "    Embarked_col = train.select_dtypes(['category']).columns\n",
        "    train[Embarked_col] = train[Embarked_col].apply(lambda x: x.cat.codes)\n",
        "    return train\n",
        "    "
      ],
      "execution_count": 0,
      "outputs": []
    },
    {
      "cell_type": "code",
      "metadata": {
        "id": "2rlYmA78G_r2",
        "colab_type": "code",
        "colab": {}
      },
      "source": [
        "train=prepare_data(orig_train)\n",
        "test=prepare_data(orig_test)"
      ],
      "execution_count": 0,
      "outputs": []
    },
    {
      "cell_type": "code",
      "metadata": {
        "id": "luUoTS5pG_r8",
        "colab_type": "code",
        "colab": {}
      },
      "source": [
        "def handle_nans(dataset):\n",
        "    print(\"------------------------------------------------------------------------\")\n",
        "    percent_missing = dataset.isnull().sum() * 100 / len(dataset)\n",
        "    missing_value_df = pd.DataFrame({'column_name': dataset.columns,\n",
        "                                     'percent_missing': percent_missing})\n",
        "    print(\"Missing Values:\")\n",
        "    print(missing_value_df)\n",
        "    dataset=dataset.mask(dataset.isnull(), np.random.uniform(dataset[\"Age\"].min(),\n",
        "                                             dataset[\"Age\"].max(),\n",
        "                                             size=dataset.shape))\n",
        "    dataset=dataset.fillna(method='ffill')\n",
        "    print(\"Data description\")\n",
        "    print(dataset.describe())\n",
        "    percent_missing = dataset.isnull().sum() * 100 / len(dataset)\n",
        "    missing_value_df = pd.DataFrame({'column_name': dataset.columns,\n",
        "                                     'percent_missing': percent_missing})\n",
        "    print(\"New Missing Values:\")\n",
        "    print(missing_value_df)\n",
        "    print(\"------------------------------------------------------------------------\")\n",
        "    return dataset"
      ],
      "execution_count": 0,
      "outputs": []
    },
    {
      "cell_type": "code",
      "metadata": {
        "id": "9Qmj2s_zG_sB",
        "colab_type": "code",
        "outputId": "29521774-fa9d-4061-fd69-f8bc5b15f665",
        "colab": {
          "base_uri": "https://localhost:8080/",
          "height": 1000
        }
      },
      "source": [
        "train_nan=handle_nans(train)\n",
        "test_nan=handle_nans(test)"
      ],
      "execution_count": 0,
      "outputs": [
        {
          "output_type": "stream",
          "text": [
            "------------------------------------------------------------------------\n",
            "Missing Values:\n",
            "         column_name  percent_missing\n",
            "Survived    Survived          0.00000\n",
            "Pclass        Pclass          0.00000\n",
            "Sex              Sex          0.00000\n",
            "Age              Age         19.86532\n",
            "SibSp          SibSp          0.00000\n",
            "Parch          Parch          0.00000\n",
            "Fare            Fare          0.00000\n",
            "Embarked    Embarked          0.00000\n",
            "Data description\n",
            "         Survived      Pclass         Sex  ...       Parch        Fare    Embarked\n",
            "count  891.000000  891.000000  891.000000  ...  891.000000  891.000000  891.000000\n",
            "mean     0.383838    2.308642    0.647587  ...    0.381594   32.204208    1.529742\n",
            "std      0.486592    0.836071    0.477990  ...    0.806057   49.693429    0.800254\n",
            "min      0.000000    1.000000    0.000000  ...    0.000000    0.000000   -1.000000\n",
            "25%      0.000000    2.000000    0.000000  ...    0.000000    7.910400    1.000000\n",
            "50%      0.000000    3.000000    1.000000  ...    0.000000   14.454200    2.000000\n",
            "75%      1.000000    3.000000    1.000000  ...    0.000000   31.000000    2.000000\n",
            "max      1.000000    3.000000    1.000000  ...    6.000000  512.329200    2.000000\n",
            "\n",
            "[8 rows x 8 columns]\n",
            "New Missing Values:\n",
            "         column_name  percent_missing\n",
            "Survived    Survived              0.0\n",
            "Pclass        Pclass              0.0\n",
            "Sex              Sex              0.0\n",
            "Age              Age              0.0\n",
            "SibSp          SibSp              0.0\n",
            "Parch          Parch              0.0\n",
            "Fare            Fare              0.0\n",
            "Embarked    Embarked              0.0\n",
            "------------------------------------------------------------------------\n",
            "------------------------------------------------------------------------\n",
            "Missing Values:\n",
            "         column_name  percent_missing\n",
            "Pclass        Pclass         0.000000\n",
            "Sex              Sex         0.000000\n",
            "Age              Age        20.574163\n",
            "SibSp          SibSp         0.000000\n",
            "Parch          Parch         0.000000\n",
            "Fare            Fare         0.239234\n",
            "Embarked    Embarked         0.000000\n",
            "Data description\n",
            "           Pclass         Sex         Age  ...       Parch        Fare    Embarked\n",
            "count  418.000000  418.000000  418.000000  ...  418.000000  418.000000  418.000000\n",
            "mean     2.265550    0.636364   31.174721  ...    0.392344   35.706637    1.401914\n",
            "std      0.841838    0.481622   16.194043  ...    0.981429   55.864120    0.854496\n",
            "min      1.000000    0.000000    0.170000  ...    0.000000    0.000000    0.000000\n",
            "25%      1.000000    0.000000   21.000000  ...    0.000000    7.895800    1.000000\n",
            "50%      3.000000    1.000000   27.546920  ...    0.000000   14.454200    2.000000\n",
            "75%      3.000000    1.000000   42.000000  ...    0.000000   31.500000    2.000000\n",
            "max      3.000000    1.000000   76.000000  ...    9.000000  512.329200    2.000000\n",
            "\n",
            "[8 rows x 7 columns]\n",
            "New Missing Values:\n",
            "         column_name  percent_missing\n",
            "Pclass        Pclass              0.0\n",
            "Sex              Sex              0.0\n",
            "Age              Age              0.0\n",
            "SibSp          SibSp              0.0\n",
            "Parch          Parch              0.0\n",
            "Fare            Fare              0.0\n",
            "Embarked    Embarked              0.0\n",
            "------------------------------------------------------------------------\n"
          ],
          "name": "stdout"
        }
      ]
    },
    {
      "cell_type": "markdown",
      "metadata": {
        "id": "wtLwThm_G_sG",
        "colab_type": "text"
      },
      "source": [
        "# Correlation analysis:\n",
        "\n",
        "a)Not high correlation found between any features, so we will not remove any of them. High correlation between two features implies we can use one of them instead of both.\n",
        "\n",
        "b)Low correlation with the target variable might seems that we can remove the feature,though we must consider the fact that we might use a classifier that will be able to exploit non linear dependencies between the target-feature.\n",
        "\n",
        "c)Correlation does not change if we standarize.\n",
        "\n"
      ]
    },
    {
      "cell_type": "code",
      "metadata": {
        "id": "OI7LopbxG_sH",
        "colab_type": "code",
        "outputId": "d949ae82-e93b-46ce-ea42-10dd1930e40e",
        "colab": {
          "base_uri": "https://localhost:8080/",
          "height": 626
        }
      },
      "source": [
        "plt.figure(figsize=(12,10))\n",
        "cor = train_nan.corr()\n",
        "sns.heatmap(cor, annot=True, cmap=plt.cm.Reds)\n",
        "plt.show()"
      ],
      "execution_count": 0,
      "outputs": [
        {
          "output_type": "display_data",
          "data": {
            "image/png": "[encoded data removed]",
            "text/plain": [
              "<Figure size 864x720 with 2 Axes>"
            ]
          },
          "metadata": {
            "tags": []
          }
        }
      ]
    },
    {
      "cell_type": "code",
      "metadata": {
        "id": "fHqn8tNPG_sN",
        "colab_type": "code",
        "outputId": "e67c747e-13a2-42a7-bafd-8006a4568378",
        "colab": {
          "base_uri": "https://localhost:8080/",
          "height": 315
        }
      },
      "source": [
        "train_X=train_nan.drop([\"Survived\"],axis=1)\n",
        "train_Y=train_nan[\"Survived\"]\n",
        "plt.hist(train_Y)\n",
        "#boxplot = train_X.boxplot()"
      ],
      "execution_count": 0,
      "outputs": [
        {
          "output_type": "execute_result",
          "data": {
            "text/plain": [
              "(array([549.,   0.,   0.,   0.,   0.,   0.,   0.,   0.,   0., 342.]),\n",
              " array([0. , 0.1, 0.2, 0.3, 0.4, 0.5, 0.6, 0.7, 0.8, 0.9, 1. ]),\n",
              " <a list of 10 Patch objects>)"
            ]
          },
          "metadata": {
            "tags": []
          },
          "execution_count": 10
        },
        {
          "output_type": "display_data",
          "data": {
            "image/png": "[encoded data removed]",
            "text/plain": [
              "<Figure size 432x288 with 1 Axes>"
            ]
          },
          "metadata": {
            "tags": []
          }
        }
      ]
    },
    {
      "cell_type": "code",
      "metadata": {
        "id": "0E_QtQECG_sT",
        "colab_type": "code",
        "outputId": "91b550cc-4472-4da2-b6dc-06041bc9bc36",
        "colab": {
          "base_uri": "https://localhost:8080/",
          "height": 265
        }
      },
      "source": [
        "boxplot = train_X.boxplot(column='Fare')\n"
      ],
      "execution_count": 0,
      "outputs": [
        {
          "output_type": "display_data",
          "data": {
            "image/png": "[encoded data removed]",
            "text/plain": [
              "<Figure size 432x288 with 1 Axes>"
            ]
          },
          "metadata": {
            "tags": []
          }
        }
      ]
    },
    {
      "cell_type": "code",
      "metadata": {
        "id": "jDmgOLS4G_sZ",
        "colab_type": "code",
        "outputId": "3a444a47-d3e1-417a-fab5-84ea8e7a1f9a",
        "colab": {
          "base_uri": "https://localhost:8080/",
          "height": 87
        }
      },
      "source": [
        "from sklearn.feature_selection import SelectFromModel\n",
        "from sklearn.linear_model import LogisticRegression\n",
        "\n",
        "embeded_lr_selector = SelectFromModel(LogisticRegression(penalty=\"l1\"))\n",
        "embeded_lr_selector.fit(train_X, train_Y)\n",
        "\n",
        "embeded_lr_support = embeded_lr_selector.get_support()\n",
        "embeded_lr_feature = train_X.loc[:,embeded_lr_support].columns.tolist()\n",
        "print(str(embeded_lr_feature), 'selected features')\n"
      ],
      "execution_count": 0,
      "outputs": [
        {
          "output_type": "stream",
          "text": [
            "['Pclass', 'Sex', 'Age', 'SibSp', 'Parch', 'Fare', 'Embarked'] selected features\n"
          ],
          "name": "stdout"
        },
        {
          "output_type": "stream",
          "text": [
            "/usr/local/lib/python3.6/dist-packages/sklearn/linear_model/logistic.py:432: FutureWarning: Default solver will be changed to 'lbfgs' in 0.22. Specify a solver to silence this warning.\n",
            "  FutureWarning)\n"
          ],
          "name": "stderr"
        }
      ]
    },
    {
      "cell_type": "code",
      "metadata": {
        "id": "_WJllbMqG_sf",
        "colab_type": "code",
        "colab": {}
      },
      "source": [
        "train_X_=train_X.drop(['Embarked'],axis=1)\n",
        "test_X_=test_nan.drop(['Embarked'],axis=1)\n",
        "train_X_=train_X_.drop(['Fare'],axis=1)\n",
        "test_X_=test_X_.drop(['Fare'],axis=1)\n",
        "train_X_=train_X_.drop(['Parch'],axis=1)\n",
        "test_X_=test_X_.drop(['Parch'],axis=1)\n",
        "train_X_=train_X_.drop(['SibSp'],axis=1)\n",
        "test_X_=test_X_.drop(['SibSp'],axis=1)"
      ],
      "execution_count": 0,
      "outputs": []
    },
    {
      "cell_type": "code",
      "metadata": {
        "id": "vf3mFOwYG_sk",
        "colab_type": "code",
        "colab": {}
      },
      "source": [
        "from sklearn import preprocessing\n",
        "def scale(inp):\n",
        "    scaler = preprocessing.StandardScaler()\n",
        "    # Fit your data on the scaler object\n",
        "    out = scaler.fit_transform(inp)\n",
        "    out = pd.DataFrame(out, columns=inp.columns)\n",
        "    return out\n",
        "scaled_df_train=scale(train_X_)\n",
        "scaled_df_test=scale(test_X_)"
      ],
      "execution_count": 0,
      "outputs": []
    },
    {
      "cell_type": "code",
      "metadata": {
        "id": "dFE6zLBpG_sq",
        "colab_type": "code",
        "outputId": "ed2e76f5-825f-4fe9-e4be-dd88a304de46",
        "colab": {
          "base_uri": "https://localhost:8080/",
          "height": 168
        }
      },
      "source": [
        "print(scaled_df_train.describe())"
      ],
      "execution_count": 0,
      "outputs": [
        {
          "output_type": "stream",
          "text": [
            "             Pclass           Sex           Age\n",
            "count  8.910000e+02  8.910000e+02  8.910000e+02\n",
            "mean  -2.031048e-16 -4.059603e-16 -4.287502e-17\n",
            "std    1.000562e+00  1.000562e+00  1.000562e+00\n",
            "min   -1.566107e+00 -1.355574e+00 -1.841982e+00\n",
            "25%   -3.693648e-01 -1.355574e+00 -6.578764e-01\n",
            "50%    8.273772e-01  7.376951e-01 -1.191170e-01\n",
            "75%    8.273772e-01  7.376951e-01  5.798140e-01\n",
            "max    8.273772e-01  7.376951e-01  2.793096e+00\n"
          ],
          "name": "stdout"
        }
      ]
    },
    {
      "cell_type": "code",
      "metadata": {
        "id": "5pRrnjQfG_sw",
        "colab_type": "code",
        "outputId": "59af21e7-d486-416f-926c-e16cccead9ca",
        "colab": {
          "base_uri": "https://localhost:8080/",
          "height": 268
        }
      },
      "source": [
        "boxplot = scaled_df_train.boxplot()"
      ],
      "execution_count": 0,
      "outputs": [
        {
          "output_type": "display_data",
          "data": {
            "image/png": "[encoded data removed]",
            "text/plain": [
              "<Figure size 432x288 with 1 Axes>"
            ]
          },
          "metadata": {
            "tags": []
          }
        }
      ]
    },
    {
      "cell_type": "code",
      "metadata": {
        "id": "CIiza2PCG_s1",
        "colab_type": "code",
        "colab": {}
      },
      "source": [
        "def write_to_file(y_pred,filename):\n",
        "    f = open(filename, \"w\")\n",
        "    f.write(\"PassengerId,Survived\\n\")\n",
        "    for i in range(418):\n",
        "        f.write(str(892+i)+\",\"+str(y_pred[i])+\"\\n\")\n",
        "    f.close()"
      ],
      "execution_count": 0,
      "outputs": []
    },
    {
      "cell_type": "code",
      "metadata": {
        "id": "8prCwFd9G_s6",
        "colab_type": "code",
        "outputId": "880915a1-9148-4c8e-85d0-d8cc90855c86",
        "colab": {
          "base_uri": "https://localhost:8080/",
          "height": 1000
        }
      },
      "source": [
        "from sklearn.model_selection import StratifiedKFold\n",
        "from sklearn.metrics import f1_score\n",
        "from sklearn.ensemble import RandomForestClassifier\n",
        "from sklearn.svm import SVC\n",
        "\n",
        "skf = StratifiedKFold(n_splits=10)\n",
        "algo={\n",
        "    \"LogisticRegression\":LogisticRegression(),\n",
        "    \"SVC\":SVC(kernel='rbf'),\n",
        "    \"RandomForestClassifier\":RandomForestClassifier(n_jobs=2, random_state=0,max_depth=5)\n",
        "}\n",
        "best=1\n",
        "res={}\n",
        "for key in algo.keys():\n",
        "    res[key]=0\n",
        "cnt=0\n",
        "for train_index, test_index in skf.split(scaled_df_train,train_Y ):\n",
        "    print(\"----------------------------------------\")\n",
        "    cnt+=1\n",
        "    for algor in algo.keys():\n",
        "        algo[algor].fit(scaled_df_train.iloc[train_index], train_Y.iloc[train_index])\n",
        "        y_pred = algo[algor].predict(scaled_df_train.iloc[test_index])\n",
        "        f1='{0:.2f}'.format(f1_score(train_Y.iloc[test_index], y_pred, average='weighted'))\n",
        "        print(algor,str(f1))\n",
        "        res[algor]=float(f1)+res[algor]\n",
        "    print(\"----------------------------------------\")\n",
        "for algor in algo.keys():\n",
        "  res[algor]=res[algor]/cnt"
      ],
      "execution_count": 0,
      "outputs": [
        {
          "output_type": "stream",
          "text": [
            "----------------------------------------\n",
            "LogisticRegression 0.78\n",
            "SVC 0.73\n"
          ],
          "name": "stdout"
        },
        {
          "output_type": "stream",
          "text": [
            "/usr/local/lib/python3.6/dist-packages/sklearn/linear_model/logistic.py:432: FutureWarning: Default solver will be changed to 'lbfgs' in 0.22. Specify a solver to silence this warning.\n",
            "  FutureWarning)\n",
            "/usr/local/lib/python3.6/dist-packages/sklearn/svm/base.py:193: FutureWarning: The default value of gamma will change from 'auto' to 'scale' in version 0.22 to account better for unscaled features. Set gamma explicitly to 'auto' or 'scale' to avoid this warning.\n",
            "  \"avoid this warning.\", FutureWarning)\n",
            "/usr/local/lib/python3.6/dist-packages/sklearn/ensemble/forest.py:245: FutureWarning: The default value of n_estimators will change from 10 in version 0.20 to 100 in 0.22.\n",
            "  \"10 in version 0.20 to 100 in 0.22.\", FutureWarning)\n"
          ],
          "name": "stderr"
        },
        {
          "output_type": "stream",
          "text": [
            "RandomForestClassifier 0.78\n",
            "----------------------------------------\n",
            "----------------------------------------\n",
            "LogisticRegression 0.74\n",
            "SVC 0.77\n"
          ],
          "name": "stdout"
        },
        {
          "output_type": "stream",
          "text": [
            "/usr/local/lib/python3.6/dist-packages/sklearn/linear_model/logistic.py:432: FutureWarning: Default solver will be changed to 'lbfgs' in 0.22. Specify a solver to silence this warning.\n",
            "  FutureWarning)\n",
            "/usr/local/lib/python3.6/dist-packages/sklearn/svm/base.py:193: FutureWarning: The default value of gamma will change from 'auto' to 'scale' in version 0.22 to account better for unscaled features. Set gamma explicitly to 'auto' or 'scale' to avoid this warning.\n",
            "  \"avoid this warning.\", FutureWarning)\n"
          ],
          "name": "stderr"
        },
        {
          "output_type": "stream",
          "text": [
            "RandomForestClassifier 0.79\n",
            "----------------------------------------\n",
            "----------------------------------------\n",
            "LogisticRegression 0.78\n",
            "SVC 0.71\n"
          ],
          "name": "stdout"
        },
        {
          "output_type": "stream",
          "text": [
            "/usr/local/lib/python3.6/dist-packages/sklearn/linear_model/logistic.py:432: FutureWarning: Default solver will be changed to 'lbfgs' in 0.22. Specify a solver to silence this warning.\n",
            "  FutureWarning)\n",
            "/usr/local/lib/python3.6/dist-packages/sklearn/svm/base.py:193: FutureWarning: The default value of gamma will change from 'auto' to 'scale' in version 0.22 to account better for unscaled features. Set gamma explicitly to 'auto' or 'scale' to avoid this warning.\n",
            "  \"avoid this warning.\", FutureWarning)\n"
          ],
          "name": "stderr"
        },
        {
          "output_type": "stream",
          "text": [
            "RandomForestClassifier 0.75\n",
            "----------------------------------------\n",
            "----------------------------------------\n",
            "LogisticRegression 0.85\n",
            "SVC 0.88\n"
          ],
          "name": "stdout"
        },
        {
          "output_type": "stream",
          "text": [
            "/usr/local/lib/python3.6/dist-packages/sklearn/linear_model/logistic.py:432: FutureWarning: Default solver will be changed to 'lbfgs' in 0.22. Specify a solver to silence this warning.\n",
            "  FutureWarning)\n",
            "/usr/local/lib/python3.6/dist-packages/sklearn/svm/base.py:193: FutureWarning: The default value of gamma will change from 'auto' to 'scale' in version 0.22 to account better for unscaled features. Set gamma explicitly to 'auto' or 'scale' to avoid this warning.\n",
            "  \"avoid this warning.\", FutureWarning)\n"
          ],
          "name": "stderr"
        },
        {
          "output_type": "stream",
          "text": [
            "RandomForestClassifier 0.86\n",
            "----------------------------------------\n",
            "----------------------------------------\n",
            "LogisticRegression 0.80\n",
            "SVC 0.81\n"
          ],
          "name": "stdout"
        },
        {
          "output_type": "stream",
          "text": [
            "/usr/local/lib/python3.6/dist-packages/sklearn/linear_model/logistic.py:432: FutureWarning: Default solver will be changed to 'lbfgs' in 0.22. Specify a solver to silence this warning.\n",
            "  FutureWarning)\n",
            "/usr/local/lib/python3.6/dist-packages/sklearn/svm/base.py:193: FutureWarning: The default value of gamma will change from 'auto' to 'scale' in version 0.22 to account better for unscaled features. Set gamma explicitly to 'auto' or 'scale' to avoid this warning.\n",
            "  \"avoid this warning.\", FutureWarning)\n"
          ],
          "name": "stderr"
        },
        {
          "output_type": "stream",
          "text": [
            "RandomForestClassifier 0.79\n",
            "----------------------------------------\n",
            "----------------------------------------\n",
            "LogisticRegression 0.78\n",
            "SVC 0.78\n"
          ],
          "name": "stdout"
        },
        {
          "output_type": "stream",
          "text": [
            "/usr/local/lib/python3.6/dist-packages/sklearn/linear_model/logistic.py:432: FutureWarning: Default solver will be changed to 'lbfgs' in 0.22. Specify a solver to silence this warning.\n",
            "  FutureWarning)\n",
            "/usr/local/lib/python3.6/dist-packages/sklearn/svm/base.py:193: FutureWarning: The default value of gamma will change from 'auto' to 'scale' in version 0.22 to account better for unscaled features. Set gamma explicitly to 'auto' or 'scale' to avoid this warning.\n",
            "  \"avoid this warning.\", FutureWarning)\n"
          ],
          "name": "stderr"
        },
        {
          "output_type": "stream",
          "text": [
            "RandomForestClassifier 0.79\n",
            "----------------------------------------\n",
            "----------------------------------------\n",
            "LogisticRegression 0.76\n",
            "SVC 0.77\n"
          ],
          "name": "stdout"
        },
        {
          "output_type": "stream",
          "text": [
            "/usr/local/lib/python3.6/dist-packages/sklearn/linear_model/logistic.py:432: FutureWarning: Default solver will be changed to 'lbfgs' in 0.22. Specify a solver to silence this warning.\n",
            "  FutureWarning)\n",
            "/usr/local/lib/python3.6/dist-packages/sklearn/svm/base.py:193: FutureWarning: The default value of gamma will change from 'auto' to 'scale' in version 0.22 to account better for unscaled features. Set gamma explicitly to 'auto' or 'scale' to avoid this warning.\n",
            "  \"avoid this warning.\", FutureWarning)\n"
          ],
          "name": "stderr"
        },
        {
          "output_type": "stream",
          "text": [
            "RandomForestClassifier 0.80\n",
            "----------------------------------------\n",
            "----------------------------------------\n",
            "LogisticRegression 0.70\n",
            "SVC 0.72\n"
          ],
          "name": "stdout"
        },
        {
          "output_type": "stream",
          "text": [
            "/usr/local/lib/python3.6/dist-packages/sklearn/linear_model/logistic.py:432: FutureWarning: Default solver will be changed to 'lbfgs' in 0.22. Specify a solver to silence this warning.\n",
            "  FutureWarning)\n",
            "/usr/local/lib/python3.6/dist-packages/sklearn/svm/base.py:193: FutureWarning: The default value of gamma will change from 'auto' to 'scale' in version 0.22 to account better for unscaled features. Set gamma explicitly to 'auto' or 'scale' to avoid this warning.\n",
            "  \"avoid this warning.\", FutureWarning)\n"
          ],
          "name": "stderr"
        },
        {
          "output_type": "stream",
          "text": [
            "RandomForestClassifier 0.69\n",
            "----------------------------------------\n",
            "----------------------------------------\n",
            "LogisticRegression 0.78\n",
            "SVC 0.83\n"
          ],
          "name": "stdout"
        },
        {
          "output_type": "stream",
          "text": [
            "/usr/local/lib/python3.6/dist-packages/sklearn/linear_model/logistic.py:432: FutureWarning: Default solver will be changed to 'lbfgs' in 0.22. Specify a solver to silence this warning.\n",
            "  FutureWarning)\n",
            "/usr/local/lib/python3.6/dist-packages/sklearn/svm/base.py:193: FutureWarning: The default value of gamma will change from 'auto' to 'scale' in version 0.22 to account better for unscaled features. Set gamma explicitly to 'auto' or 'scale' to avoid this warning.\n",
            "  \"avoid this warning.\", FutureWarning)\n"
          ],
          "name": "stderr"
        },
        {
          "output_type": "stream",
          "text": [
            "RandomForestClassifier 0.84\n",
            "----------------------------------------\n",
            "----------------------------------------\n",
            "LogisticRegression 0.77\n",
            "SVC 0.79\n"
          ],
          "name": "stdout"
        },
        {
          "output_type": "stream",
          "text": [
            "/usr/local/lib/python3.6/dist-packages/sklearn/linear_model/logistic.py:432: FutureWarning: Default solver will be changed to 'lbfgs' in 0.22. Specify a solver to silence this warning.\n",
            "  FutureWarning)\n",
            "/usr/local/lib/python3.6/dist-packages/sklearn/svm/base.py:193: FutureWarning: The default value of gamma will change from 'auto' to 'scale' in version 0.22 to account better for unscaled features. Set gamma explicitly to 'auto' or 'scale' to avoid this warning.\n",
            "  \"avoid this warning.\", FutureWarning)\n"
          ],
          "name": "stderr"
        },
        {
          "output_type": "stream",
          "text": [
            "RandomForestClassifier 0.78\n",
            "----------------------------------------\n"
          ],
          "name": "stdout"
        }
      ]
    },
    {
      "cell_type": "code",
      "metadata": {
        "id": "5BxH55WCvFUD",
        "colab_type": "code",
        "outputId": "59d2f1db-c19d-4f53-c55b-467014db64d8",
        "colab": {
          "base_uri": "https://localhost:8080/",
          "height": 591
        }
      },
      "source": [
        "from sklearn.model_selection import RandomizedSearchCV\n",
        "# Number of trees in random forest\n",
        "n_estimators = [int(x) for x in np.linspace(start = 200, stop = 2000, num = 10)]\n",
        "# Number of features to consider at every split\n",
        "max_features = ['auto', 'sqrt']\n",
        "# Maximum number of levels in tree\n",
        "max_depth = [int(x) for x in np.linspace(10, 110, num = 11)]\n",
        "max_depth.append(None)\n",
        "# Minimum number of samples required to split a node\n",
        "min_samples_split = [2, 5, 10]\n",
        "# Minimum number of samples required at each leaf node\n",
        "min_samples_leaf = [1, 2, 4]\n",
        "# Method of selecting samples for training each tree\n",
        "bootstrap = [True, False]\n",
        "# Create the random grid\n",
        "random_grid = {'n_estimators': n_estimators,\n",
        "               'max_features': max_features,\n",
        "               'max_depth': max_depth,\n",
        "               'min_samples_split': min_samples_split,\n",
        "               'min_samples_leaf': min_samples_leaf,\n",
        "               'bootstrap': bootstrap}\n",
        "print(random_grid)\n",
        "# Use the random grid to search for best hyperparameters\n",
        "# First create the base model to tune\n",
        "rf = RandomForestClassifier()\n",
        "# Random search of parameters, using 3 fold cross validation, \n",
        "# search across 100 different combinations, and use all available cores\n",
        "rf_random = RandomizedSearchCV(estimator = rf, param_distributions = random_grid, n_iter = 100, cv = 3, verbose=2, random_state=42, n_jobs = -1)\n",
        "# Fit the random search model\n",
        "rf_random.fit(scaled_df_train, train_Y)"
      ],
      "execution_count": 0,
      "outputs": [
        {
          "output_type": "stream",
          "text": [
            "{'n_estimators': [200, 400, 600, 800, 1000, 1200, 1400, 1600, 1800, 2000], 'max_features': ['auto', 'sqrt'], 'max_depth': [10, 20, 30, 40, 50, 60, 70, 80, 90, 100, 110, None], 'min_samples_split': [2, 5, 10], 'min_samples_leaf': [1, 2, 4], 'bootstrap': [True, False]}\n",
            "Fitting 3 folds for each of 100 candidates, totalling 300 fits\n"
          ],
          "name": "stdout"
        },
        {
          "output_type": "stream",
          "text": [
            "[Parallel(n_jobs=-1)]: Using backend LokyBackend with 2 concurrent workers.\n",
            "[Parallel(n_jobs=-1)]: Done  37 tasks      | elapsed:  1.1min\n",
            "[Parallel(n_jobs=-1)]: Done 158 tasks      | elapsed:  4.4min\n",
            "[Parallel(n_jobs=-1)]: Done 300 out of 300 | elapsed:  8.4min finished\n"
          ],
          "name": "stderr"
        },
        {
          "output_type": "execute_result",
          "data": {
            "text/plain": [
              "RandomizedSearchCV(cv=3, error_score='raise-deprecating',\n",
              "                   estimator=RandomForestClassifier(bootstrap=True,\n",
              "                                                    class_weight=None,\n",
              "                                                    criterion='gini',\n",
              "                                                    max_depth=None,\n",
              "                                                    max_features='auto',\n",
              "                                                    max_leaf_nodes=None,\n",
              "                                                    min_impurity_decrease=0.0,\n",
              "                                                    min_impurity_split=None,\n",
              "                                                    min_samples_leaf=1,\n",
              "                                                    min_samples_split=2,\n",
              "                                                    min_weight_fraction_leaf=0.0,\n",
              "                                                    n_estimators='warn',\n",
              "                                                    n_jobs=None,\n",
              "                                                    oob_sc...\n",
              "                   param_distributions={'bootstrap': [True, False],\n",
              "                                        'max_depth': [10, 20, 30, 40, 50, 60,\n",
              "                                                      70, 80, 90, 100, 110,\n",
              "                                                      None],\n",
              "                                        'max_features': ['auto', 'sqrt'],\n",
              "                                        'min_samples_leaf': [1, 2, 4],\n",
              "                                        'min_samples_split': [2, 5, 10],\n",
              "                                        'n_estimators': [200, 400, 600, 800,\n",
              "                                                         1000, 1200, 1400, 1600,\n",
              "                                                         1800, 2000]},\n",
              "                   pre_dispatch='2*n_jobs', random_state=42, refit=True,\n",
              "                   return_train_score=False, scoring=None, verbose=2)"
            ]
          },
          "metadata": {
            "tags": []
          },
          "execution_count": 32
        }
      ]
    },
    {
      "cell_type": "code",
      "metadata": {
        "id": "6-Y3ugTiCSSD",
        "colab_type": "code",
        "colab": {}
      },
      "source": [
        "y_pred=rf_random.predict(scaled_df_test)\n",
        "write_to_file(y_pred,\"svc.txt\")"
      ],
      "execution_count": 0,
      "outputs": []
    },
    {
      "cell_type": "code",
      "metadata": {
        "id": "yDpGpEvVG_s_",
        "colab_type": "code",
        "outputId": "fa996150-186d-451d-8dfd-de8591f481f1",
        "colab": {
          "base_uri": "https://localhost:8080/",
          "height": 50
        }
      },
      "source": [
        "import operator\n",
        "print(res)\n",
        "print(max(res.items(), key=operator.itemgetter(1))[0])"
      ],
      "execution_count": 0,
      "outputs": [
        {
          "output_type": "stream",
          "text": [
            "{'LogisticRegression': 0.774, 'SVC': 0.7789999999999999, 'RandomForestClassifier': 0.787}\n",
            "RandomForestClassifier\n"
          ],
          "name": "stdout"
        }
      ]
    },
    {
      "cell_type": "code",
      "metadata": {
        "id": "svGC7a02G_tH",
        "colab_type": "code",
        "outputId": "6389f1e0-2e8d-451f-e048-3f133531276d",
        "colab": {
          "base_uri": "https://localhost:8080/",
          "height": 1000
        }
      },
      "source": [
        "from sklearn.model_selection import GridSearchCV\n",
        "param_grid = {'C':[1,10,100,1000],'gamma':[10,1,0.1,0.01,0.0001], 'kernel':['linear','rbf']}\n",
        "grid = GridSearchCV(SVC(),param_grid,refit = True, verbose=2)\n",
        "grid.fit(scaled_df_train,train_Y)"
      ],
      "execution_count": 0,
      "outputs": [
        {
          "output_type": "stream",
          "text": [
            "/usr/local/lib/python3.6/dist-packages/sklearn/model_selection/_split.py:1978: FutureWarning: The default value of cv will change from 3 to 5 in version 0.22. Specify it explicitly to silence this warning.\n",
            "  warnings.warn(CV_WARNING, FutureWarning)\n",
            "[Parallel(n_jobs=1)]: Using backend SequentialBackend with 1 concurrent workers.\n",
            "[Parallel(n_jobs=1)]: Done   1 out of   1 | elapsed:    0.0s remaining:    0.0s\n"
          ],
          "name": "stderr"
        },
        {
          "output_type": "stream",
          "text": [
            "Fitting 3 folds for each of 40 candidates, totalling 120 fits\n",
            "[CV] C=1, gamma=10, kernel=linear ....................................\n",
            "[CV] ..................... C=1, gamma=10, kernel=linear, total=   0.0s\n",
            "[CV] C=1, gamma=10, kernel=linear ....................................\n",
            "[CV] ..................... C=1, gamma=10, kernel=linear, total=   0.0s\n",
            "[CV] C=1, gamma=10, kernel=linear ....................................\n",
            "[CV] ..................... C=1, gamma=10, kernel=linear, total=   0.0s\n",
            "[CV] C=1, gamma=10, kernel=rbf .......................................\n",
            "[CV] ........................ C=1, gamma=10, kernel=rbf, total=   0.0s\n",
            "[CV] C=1, gamma=10, kernel=rbf .......................................\n",
            "[CV] ........................ C=1, gamma=10, kernel=rbf, total=   0.0s\n",
            "[CV] C=1, gamma=10, kernel=rbf .......................................\n",
            "[CV] ........................ C=1, gamma=10, kernel=rbf, total=   0.0s\n",
            "[CV] C=1, gamma=1, kernel=linear .....................................\n",
            "[CV] ...................... C=1, gamma=1, kernel=linear, total=   0.0s\n",
            "[CV] C=1, gamma=1, kernel=linear .....................................\n",
            "[CV] ...................... C=1, gamma=1, kernel=linear, total=   0.0s\n",
            "[CV] C=1, gamma=1, kernel=linear .....................................\n",
            "[CV] ...................... C=1, gamma=1, kernel=linear, total=   0.0s\n",
            "[CV] C=1, gamma=1, kernel=rbf ........................................\n",
            "[CV] ......................... C=1, gamma=1, kernel=rbf, total=   0.0s\n",
            "[CV] C=1, gamma=1, kernel=rbf ........................................\n",
            "[CV] ......................... C=1, gamma=1, kernel=rbf, total=   0.0s\n",
            "[CV] C=1, gamma=1, kernel=rbf ........................................\n",
            "[CV] ......................... C=1, gamma=1, kernel=rbf, total=   0.0s\n",
            "[CV] C=1, gamma=0.1, kernel=linear ...................................\n",
            "[CV] .................... C=1, gamma=0.1, kernel=linear, total=   0.0s\n",
            "[CV] C=1, gamma=0.1, kernel=linear ...................................\n",
            "[CV] .................... C=1, gamma=0.1, kernel=linear, total=   0.0s\n",
            "[CV] C=1, gamma=0.1, kernel=linear ...................................\n",
            "[CV] .................... C=1, gamma=0.1, kernel=linear, total=   0.0s\n",
            "[CV] C=1, gamma=0.1, kernel=rbf ......................................\n",
            "[CV] ....................... C=1, gamma=0.1, kernel=rbf, total=   0.0s\n",
            "[CV] C=1, gamma=0.1, kernel=rbf ......................................\n",
            "[CV] ....................... C=1, gamma=0.1, kernel=rbf, total=   0.0s\n",
            "[CV] C=1, gamma=0.1, kernel=rbf ......................................\n",
            "[CV] ....................... C=1, gamma=0.1, kernel=rbf, total=   0.0s\n",
            "[CV] C=1, gamma=0.01, kernel=linear ..................................\n",
            "[CV] ................... C=1, gamma=0.01, kernel=linear, total=   0.0s\n",
            "[CV] C=1, gamma=0.01, kernel=linear ..................................\n",
            "[CV] ................... C=1, gamma=0.01, kernel=linear, total=   0.0s\n",
            "[CV] C=1, gamma=0.01, kernel=linear ..................................\n",
            "[CV] ................... C=1, gamma=0.01, kernel=linear, total=   0.0s\n",
            "[CV] C=1, gamma=0.01, kernel=rbf .....................................\n",
            "[CV] ...................... C=1, gamma=0.01, kernel=rbf, total=   0.0s\n",
            "[CV] C=1, gamma=0.01, kernel=rbf .....................................\n",
            "[CV] ...................... C=1, gamma=0.01, kernel=rbf, total=   0.0s\n",
            "[CV] C=1, gamma=0.01, kernel=rbf .....................................\n",
            "[CV] ...................... C=1, gamma=0.01, kernel=rbf, total=   0.0s\n",
            "[CV] C=1, gamma=0.0001, kernel=linear ................................\n",
            "[CV] ................. C=1, gamma=0.0001, kernel=linear, total=   0.0s\n",
            "[CV] C=1, gamma=0.0001, kernel=linear ................................\n",
            "[CV] ................. C=1, gamma=0.0001, kernel=linear, total=   0.0s\n",
            "[CV] C=1, gamma=0.0001, kernel=linear ................................\n",
            "[CV] ................. C=1, gamma=0.0001, kernel=linear, total=   0.0s\n",
            "[CV] C=1, gamma=0.0001, kernel=rbf ...................................\n",
            "[CV] .................... C=1, gamma=0.0001, kernel=rbf, total=   0.0s\n",
            "[CV] C=1, gamma=0.0001, kernel=rbf ...................................\n",
            "[CV] .................... C=1, gamma=0.0001, kernel=rbf, total=   0.0s\n",
            "[CV] C=1, gamma=0.0001, kernel=rbf ...................................\n",
            "[CV] .................... C=1, gamma=0.0001, kernel=rbf, total=   0.0s\n",
            "[CV] C=10, gamma=10, kernel=linear ...................................\n",
            "[CV] .................... C=10, gamma=10, kernel=linear, total=   0.0s\n",
            "[CV] C=10, gamma=10, kernel=linear ...................................\n",
            "[CV] .................... C=10, gamma=10, kernel=linear, total=   0.0s\n",
            "[CV] C=10, gamma=10, kernel=linear ...................................\n",
            "[CV] .................... C=10, gamma=10, kernel=linear, total=   0.0s\n",
            "[CV] C=10, gamma=10, kernel=rbf ......................................\n",
            "[CV] ....................... C=10, gamma=10, kernel=rbf, total=   0.0s\n",
            "[CV] C=10, gamma=10, kernel=rbf ......................................\n",
            "[CV] ....................... C=10, gamma=10, kernel=rbf, total=   0.1s\n",
            "[CV] C=10, gamma=10, kernel=rbf ......................................\n",
            "[CV] ....................... C=10, gamma=10, kernel=rbf, total=   0.1s\n",
            "[CV] C=10, gamma=1, kernel=linear ....................................\n",
            "[CV] ..................... C=10, gamma=1, kernel=linear, total=   0.0s\n",
            "[CV] C=10, gamma=1, kernel=linear ....................................\n",
            "[CV] ..................... C=10, gamma=1, kernel=linear, total=   0.0s\n",
            "[CV] C=10, gamma=1, kernel=linear ....................................\n",
            "[CV] ..................... C=10, gamma=1, kernel=linear, total=   0.0s\n",
            "[CV] C=10, gamma=1, kernel=rbf .......................................\n",
            "[CV] ........................ C=10, gamma=1, kernel=rbf, total=   0.0s\n",
            "[CV] C=10, gamma=1, kernel=rbf .......................................\n",
            "[CV] ........................ C=10, gamma=1, kernel=rbf, total=   0.0s\n",
            "[CV] C=10, gamma=1, kernel=rbf .......................................\n",
            "[CV] ........................ C=10, gamma=1, kernel=rbf, total=   0.0s\n",
            "[CV] C=10, gamma=0.1, kernel=linear ..................................\n",
            "[CV] ................... C=10, gamma=0.1, kernel=linear, total=   0.0s\n",
            "[CV] C=10, gamma=0.1, kernel=linear ..................................\n",
            "[CV] ................... C=10, gamma=0.1, kernel=linear, total=   0.0s\n",
            "[CV] C=10, gamma=0.1, kernel=linear ..................................\n",
            "[CV] ................... C=10, gamma=0.1, kernel=linear, total=   0.0s\n",
            "[CV] C=10, gamma=0.1, kernel=rbf .....................................\n",
            "[CV] ...................... C=10, gamma=0.1, kernel=rbf, total=   0.0s\n",
            "[CV] C=10, gamma=0.1, kernel=rbf .....................................\n",
            "[CV] ...................... C=10, gamma=0.1, kernel=rbf, total=   0.0s\n",
            "[CV] C=10, gamma=0.1, kernel=rbf .....................................\n",
            "[CV] ...................... C=10, gamma=0.1, kernel=rbf, total=   0.0s\n",
            "[CV] C=10, gamma=0.01, kernel=linear .................................\n",
            "[CV] .................. C=10, gamma=0.01, kernel=linear, total=   0.0s\n",
            "[CV] C=10, gamma=0.01, kernel=linear .................................\n",
            "[CV] .................. C=10, gamma=0.01, kernel=linear, total=   0.0s\n",
            "[CV] C=10, gamma=0.01, kernel=linear .................................\n",
            "[CV] .................. C=10, gamma=0.01, kernel=linear, total=   0.0s\n",
            "[CV] C=10, gamma=0.01, kernel=rbf ....................................\n",
            "[CV] ..................... C=10, gamma=0.01, kernel=rbf, total=   0.0s\n",
            "[CV] C=10, gamma=0.01, kernel=rbf ....................................\n",
            "[CV] ..................... C=10, gamma=0.01, kernel=rbf, total=   0.0s\n",
            "[CV] C=10, gamma=0.01, kernel=rbf ....................................\n",
            "[CV] ..................... C=10, gamma=0.01, kernel=rbf, total=   0.0s\n",
            "[CV] C=10, gamma=0.0001, kernel=linear ...............................\n",
            "[CV] ................ C=10, gamma=0.0001, kernel=linear, total=   0.0s\n",
            "[CV] C=10, gamma=0.0001, kernel=linear ...............................\n",
            "[CV] ................ C=10, gamma=0.0001, kernel=linear, total=   0.0s\n",
            "[CV] C=10, gamma=0.0001, kernel=linear ...............................\n",
            "[CV] ................ C=10, gamma=0.0001, kernel=linear, total=   0.0s\n",
            "[CV] C=10, gamma=0.0001, kernel=rbf ..................................\n",
            "[CV] ................... C=10, gamma=0.0001, kernel=rbf, total=   0.0s\n",
            "[CV] C=10, gamma=0.0001, kernel=rbf ..................................\n",
            "[CV] ................... C=10, gamma=0.0001, kernel=rbf, total=   0.0s\n",
            "[CV] C=10, gamma=0.0001, kernel=rbf ..................................\n",
            "[CV] ................... C=10, gamma=0.0001, kernel=rbf, total=   0.0s\n",
            "[CV] C=100, gamma=10, kernel=linear ..................................\n",
            "[CV] ................... C=100, gamma=10, kernel=linear, total=   0.0s\n",
            "[CV] C=100, gamma=10, kernel=linear ..................................\n",
            "[CV] ................... C=100, gamma=10, kernel=linear, total=   0.1s\n",
            "[CV] C=100, gamma=10, kernel=linear ..................................\n",
            "[CV] ................... C=100, gamma=10, kernel=linear, total=   0.1s\n",
            "[CV] C=100, gamma=10, kernel=rbf .....................................\n",
            "[CV] ...................... C=100, gamma=10, kernel=rbf, total=   0.1s\n",
            "[CV] C=100, gamma=10, kernel=rbf .....................................\n",
            "[CV] ...................... C=100, gamma=10, kernel=rbf, total=   0.1s\n",
            "[CV] C=100, gamma=10, kernel=rbf .....................................\n",
            "[CV] ...................... C=100, gamma=10, kernel=rbf, total=   0.3s\n",
            "[CV] C=100, gamma=1, kernel=linear ...................................\n",
            "[CV] .................... C=100, gamma=1, kernel=linear, total=   0.0s\n",
            "[CV] C=100, gamma=1, kernel=linear ...................................\n",
            "[CV] .................... C=100, gamma=1, kernel=linear, total=   0.1s\n",
            "[CV] C=100, gamma=1, kernel=linear ...................................\n",
            "[CV] .................... C=100, gamma=1, kernel=linear, total=   0.1s\n",
            "[CV] C=100, gamma=1, kernel=rbf ......................................\n",
            "[CV] ....................... C=100, gamma=1, kernel=rbf, total=   0.1s\n",
            "[CV] C=100, gamma=1, kernel=rbf ......................................\n",
            "[CV] ....................... C=100, gamma=1, kernel=rbf, total=   0.1s\n",
            "[CV] C=100, gamma=1, kernel=rbf ......................................\n",
            "[CV] ....................... C=100, gamma=1, kernel=rbf, total=   0.1s\n",
            "[CV] C=100, gamma=0.1, kernel=linear .................................\n",
            "[CV] .................. C=100, gamma=0.1, kernel=linear, total=   0.0s\n",
            "[CV] C=100, gamma=0.1, kernel=linear .................................\n",
            "[CV] .................. C=100, gamma=0.1, kernel=linear, total=   0.1s\n",
            "[CV] C=100, gamma=0.1, kernel=linear .................................\n",
            "[CV] .................. C=100, gamma=0.1, kernel=linear, total=   0.1s\n",
            "[CV] C=100, gamma=0.1, kernel=rbf ....................................\n",
            "[CV] ..................... C=100, gamma=0.1, kernel=rbf, total=   0.1s\n",
            "[CV] C=100, gamma=0.1, kernel=rbf ....................................\n",
            "[CV] ..................... C=100, gamma=0.1, kernel=rbf, total=   0.0s\n",
            "[CV] C=100, gamma=0.1, kernel=rbf ....................................\n",
            "[CV] ..................... C=100, gamma=0.1, kernel=rbf, total=   0.1s\n",
            "[CV] C=100, gamma=0.01, kernel=linear ................................\n",
            "[CV] ................. C=100, gamma=0.01, kernel=linear, total=   0.0s\n",
            "[CV] C=100, gamma=0.01, kernel=linear ................................\n",
            "[CV] ................. C=100, gamma=0.01, kernel=linear, total=   0.1s\n",
            "[CV] C=100, gamma=0.01, kernel=linear ................................\n",
            "[CV] ................. C=100, gamma=0.01, kernel=linear, total=   0.1s\n",
            "[CV] C=100, gamma=0.01, kernel=rbf ...................................\n",
            "[CV] .................... C=100, gamma=0.01, kernel=rbf, total=   0.0s\n",
            "[CV] C=100, gamma=0.01, kernel=rbf ...................................\n",
            "[CV] .................... C=100, gamma=0.01, kernel=rbf, total=   0.0s\n",
            "[CV] C=100, gamma=0.01, kernel=rbf ...................................\n",
            "[CV] .................... C=100, gamma=0.01, kernel=rbf, total=   0.0s\n",
            "[CV] C=100, gamma=0.0001, kernel=linear ..............................\n",
            "[CV] ............... C=100, gamma=0.0001, kernel=linear, total=   0.0s\n",
            "[CV] C=100, gamma=0.0001, kernel=linear ..............................\n",
            "[CV] ............... C=100, gamma=0.0001, kernel=linear, total=   0.1s\n",
            "[CV] C=100, gamma=0.0001, kernel=linear ..............................\n",
            "[CV] ............... C=100, gamma=0.0001, kernel=linear, total=   0.1s\n",
            "[CV] C=100, gamma=0.0001, kernel=rbf .................................\n",
            "[CV] .................. C=100, gamma=0.0001, kernel=rbf, total=   0.0s\n",
            "[CV] C=100, gamma=0.0001, kernel=rbf .................................\n",
            "[CV] .................. C=100, gamma=0.0001, kernel=rbf, total=   0.0s\n",
            "[CV] C=100, gamma=0.0001, kernel=rbf .................................\n",
            "[CV] .................. C=100, gamma=0.0001, kernel=rbf, total=   0.0s\n",
            "[CV] C=1000, gamma=10, kernel=linear .................................\n",
            "[CV] .................. C=1000, gamma=10, kernel=linear, total=  26.0s\n",
            "[CV] C=1000, gamma=10, kernel=linear .................................\n",
            "[CV] .................. C=1000, gamma=10, kernel=linear, total=  35.9s\n",
            "[CV] C=1000, gamma=10, kernel=linear .................................\n",
            "[CV] .................. C=1000, gamma=10, kernel=linear, total=  59.9s\n",
            "[CV] C=1000, gamma=10, kernel=rbf ....................................\n",
            "[CV] ..................... C=1000, gamma=10, kernel=rbf, total=   0.7s\n",
            "[CV] C=1000, gamma=10, kernel=rbf ....................................\n",
            "[CV] ..................... C=1000, gamma=10, kernel=rbf, total=   1.2s\n",
            "[CV] C=1000, gamma=10, kernel=rbf ....................................\n",
            "[CV] ..................... C=1000, gamma=10, kernel=rbf, total=   1.9s\n",
            "[CV] C=1000, gamma=1, kernel=linear ..................................\n",
            "[CV] ................... C=1000, gamma=1, kernel=linear, total=  26.4s\n",
            "[CV] C=1000, gamma=1, kernel=linear ..................................\n",
            "[CV] ................... C=1000, gamma=1, kernel=linear, total=  36.5s\n",
            "[CV] C=1000, gamma=1, kernel=linear ..................................\n",
            "[CV] ................... C=1000, gamma=1, kernel=linear, total= 1.0min\n",
            "[CV] C=1000, gamma=1, kernel=rbf .....................................\n",
            "[CV] ...................... C=1000, gamma=1, kernel=rbf, total=   0.1s\n",
            "[CV] C=1000, gamma=1, kernel=rbf .....................................\n",
            "[CV] ...................... C=1000, gamma=1, kernel=rbf, total=   0.4s\n",
            "[CV] C=1000, gamma=1, kernel=rbf .....................................\n",
            "[CV] ...................... C=1000, gamma=1, kernel=rbf, total=   0.2s\n",
            "[CV] C=1000, gamma=0.1, kernel=linear ................................\n",
            "[CV] ................. C=1000, gamma=0.1, kernel=linear, total=  25.7s\n",
            "[CV] C=1000, gamma=0.1, kernel=linear ................................\n",
            "[CV] ................. C=1000, gamma=0.1, kernel=linear, total=  35.9s\n",
            "[CV] C=1000, gamma=0.1, kernel=linear ................................\n",
            "[CV] ................. C=1000, gamma=0.1, kernel=linear, total=  59.4s\n",
            "[CV] C=1000, gamma=0.1, kernel=rbf ...................................\n",
            "[CV] .................... C=1000, gamma=0.1, kernel=rbf, total=   0.5s\n",
            "[CV] C=1000, gamma=0.1, kernel=rbf ...................................\n",
            "[CV] .................... C=1000, gamma=0.1, kernel=rbf, total=   0.5s\n",
            "[CV] C=1000, gamma=0.1, kernel=rbf ...................................\n",
            "[CV] .................... C=1000, gamma=0.1, kernel=rbf, total=   0.6s\n",
            "[CV] C=1000, gamma=0.01, kernel=linear ...............................\n",
            "[CV] ................ C=1000, gamma=0.01, kernel=linear, total=  25.9s\n",
            "[CV] C=1000, gamma=0.01, kernel=linear ...............................\n",
            "[CV] ................ C=1000, gamma=0.01, kernel=linear, total=  35.8s\n",
            "[CV] C=1000, gamma=0.01, kernel=linear ...............................\n",
            "[CV] ................ C=1000, gamma=0.01, kernel=linear, total=  59.0s\n",
            "[CV] C=1000, gamma=0.01, kernel=rbf ..................................\n",
            "[CV] ................... C=1000, gamma=0.01, kernel=rbf, total=   0.1s\n",
            "[CV] C=1000, gamma=0.01, kernel=rbf ..................................\n",
            "[CV] ................... C=1000, gamma=0.01, kernel=rbf, total=   0.2s\n",
            "[CV] C=1000, gamma=0.01, kernel=rbf ..................................\n",
            "[CV] ................... C=1000, gamma=0.01, kernel=rbf, total=   0.1s\n",
            "[CV] C=1000, gamma=0.0001, kernel=linear .............................\n",
            "[CV] .............. C=1000, gamma=0.0001, kernel=linear, total=  26.2s\n",
            "[CV] C=1000, gamma=0.0001, kernel=linear .............................\n",
            "[CV] .............. C=1000, gamma=0.0001, kernel=linear, total=  36.3s\n",
            "[CV] C=1000, gamma=0.0001, kernel=linear .............................\n",
            "[CV] .............. C=1000, gamma=0.0001, kernel=linear, total= 1.0min\n",
            "[CV] C=1000, gamma=0.0001, kernel=rbf ................................\n",
            "[CV] ................. C=1000, gamma=0.0001, kernel=rbf, total=   0.0s\n",
            "[CV] C=1000, gamma=0.0001, kernel=rbf ................................\n",
            "[CV] ................. C=1000, gamma=0.0001, kernel=rbf, total=   0.0s\n",
            "[CV] C=1000, gamma=0.0001, kernel=rbf ................................\n",
            "[CV] ................. C=1000, gamma=0.0001, kernel=rbf, total=   0.0s\n"
          ],
          "name": "stdout"
        },
        {
          "output_type": "stream",
          "text": [
            "[Parallel(n_jobs=1)]: Done 120 out of 120 | elapsed: 10.3min finished\n"
          ],
          "name": "stderr"
        },
        {
          "output_type": "execute_result",
          "data": {
            "text/plain": [
              "GridSearchCV(cv='warn', error_score='raise-deprecating',\n",
              "             estimator=SVC(C=1.0, cache_size=200, class_weight=None, coef0=0.0,\n",
              "                           decision_function_shape='ovr', degree=3,\n",
              "                           gamma='auto_deprecated', kernel='rbf', max_iter=-1,\n",
              "                           probability=False, random_state=None, shrinking=True,\n",
              "                           tol=0.001, verbose=False),\n",
              "             iid='warn', n_jobs=None,\n",
              "             param_grid={'C': [1, 10, 100, 1000],\n",
              "                         'gamma': [10, 1, 0.1, 0.01, 0.0001],\n",
              "                         'kernel': ['linear', 'rbf']},\n",
              "             pre_dispatch='2*n_jobs', refit=True, return_train_score=False,\n",
              "             scoring=None, verbose=2)"
            ]
          },
          "metadata": {
            "tags": []
          },
          "execution_count": 23
        }
      ]
    },
    {
      "cell_type": "code",
      "metadata": {
        "id": "QykviKsyG_tP",
        "colab_type": "code",
        "outputId": "1a5c063e-2152-42f2-d052-8264b731f9c4",
        "colab": {
          "base_uri": "https://localhost:8080/",
          "height": 34
        }
      },
      "source": [
        "grid.best_params_"
      ],
      "execution_count": 0,
      "outputs": [
        {
          "output_type": "execute_result",
          "data": {
            "text/plain": [
              "{'C': 10, 'gamma': 10, 'kernel': 'rbf'}"
            ]
          },
          "metadata": {
            "tags": []
          },
          "execution_count": 24
        }
      ]
    },
    {
      "cell_type": "code",
      "metadata": {
        "id": "DKr6sLsPqjYF",
        "colab_type": "code",
        "colab": {}
      },
      "source": [
        ""
      ],
      "execution_count": 0,
      "outputs": []
    },
    {
      "cell_type": "code",
      "metadata": {
        "id": "AqT8-DEqG_tX",
        "colab_type": "code",
        "colab": {}
      },
      "source": [
        "\n",
        "y_pred = grid.predict(scaled_df_test)\n",
        "write_to_file(y_pred,\"svc.txt\")"
      ],
      "execution_count": 0,
      "outputs": []
    },
    {
      "cell_type": "code",
      "metadata": {
        "id": "11IhXqFgG_tc",
        "colab_type": "code",
        "outputId": "af0fa288-13f3-4472-b82a-02a54bd2dd09",
        "colab": {
          "base_uri": "https://localhost:8080/",
          "height": 163
        }
      },
      "source": [
        "from __future__ import absolute_import, division, print_function, unicode_literals\n",
        "\n",
        "import tensorflow as tf\n",
        "tf.config.set_soft_device_placement(True)\n",
        "print(\"Num GPUs Available: \", len(tf.config.experimental.list_physical_devices('GPU')))\n",
        "%tensorflow_version 1.x magic"
      ],
      "execution_count": 0,
      "outputs": [
        {
          "output_type": "display_data",
          "data": {
            "text/html": [
              "<p style=\"color: red;\">\n",
              "The default version of TensorFlow in Colab will soon switch to TensorFlow 2.x.<br>\n",
              "We recommend you <a href=\"https://www.tensorflow.org/guide/migrate\" target=\"_blank\">upgrade</a> now \n",
              "or ensure your notebook will continue to use TensorFlow 1.x via the <code>%tensorflow_version 1.x</code> magic:\n",
              "<a href=\"https://colab.research.google.com/notebooks/tensorflow_version.ipynb\" target=\"_blank\">more info</a>.</p>\n"
            ],
            "text/plain": [
              "<IPython.core.display.HTML object>"
            ]
          },
          "metadata": {
            "tags": []
          }
        },
        {
          "output_type": "stream",
          "text": [
            "Num GPUs Available:  1\n",
            "`%tensorflow_version` only switches the major version: `1.x` or `2.x`.\n",
            "You set: `1.x magic`. This will be interpreted as: `1.x`.\n",
            "\n",
            "\n",
            "TensorFlow is already loaded. Please restart the runtime to change versions.\n"
          ],
          "name": "stdout"
        }
      ]
    },
    {
      "cell_type": "code",
      "metadata": {
        "id": "EGU577tSWxdC",
        "colab_type": "code",
        "outputId": "6107899f-6ec7-4530-f071-86dbf865a025",
        "colab": {
          "base_uri": "https://localhost:8080/",
          "height": 34
        }
      },
      "source": [
        "tf.test.gpu_device_name()"
      ],
      "execution_count": 0,
      "outputs": [
        {
          "output_type": "execute_result",
          "data": {
            "text/plain": [
              "'/device:GPU:0'"
            ]
          },
          "metadata": {
            "tags": []
          },
          "execution_count": 36
        }
      ]
    },
    {
      "cell_type": "code",
      "metadata": {
        "id": "PhnNQ8_lJOht",
        "colab_type": "code",
        "colab": {}
      },
      "source": [
        "from math import floor, ceil\n",
        "scaled_df_train=scale(train_X)\n",
        "scaled_df_test=scale(test_nan)\n",
        "n_y_train=pd.get_dummies(train_Y.astype(str))\n",
        "train_cnt = floor(scaled_df_train.shape[0] * 0.9)\n",
        "x_train = scaled_df_train.iloc[0:train_cnt].values\n",
        "y_train = n_y_train.iloc[0:train_cnt].values\n",
        "x_test = scaled_df_train.iloc[train_cnt:].values\n",
        "y_test = n_y_train.iloc[train_cnt:].values"
      ],
      "execution_count": 0,
      "outputs": []
    },
    {
      "cell_type": "code",
      "metadata": {
        "id": "ZxmzcW4uKLL7",
        "colab_type": "code",
        "colab": {}
      },
      "source": [
        "def multilayer_perceptron(x, weights,biases, keep_prob):\n",
        "  layer_1 = tf.add(tf.matmul(x, weights), biases)\n",
        "  layer_1 = tf.nn.relu(layer_1)\n",
        "  layer_1 = tf.nn.dropout(layer_1, keep_prob)\n",
        "  return layer_1"
      ],
      "execution_count": 0,
      "outputs": []
    },
    {
      "cell_type": "code",
      "metadata": {
        "id": "juErQFXiLXRM",
        "colab_type": "code",
        "colab": {}
      },
      "source": [
        "n_hidden_1 = 27\n",
        "n_hidden_2 = 9\n",
        "n_hidden_3 = 4\n",
        "n_input = x_train.shape[1]\n",
        "n_classes = y_train.shape[1]\n",
        "weights = {\n",
        "    'h1': tf.Variable(tf.random_normal([n_input, n_hidden_1])),\n",
        "    'h2': tf.Variable(tf.random_normal([n_hidden_1, n_hidden_2])),\n",
        "    'h3': tf.Variable(tf.random_normal([n_hidden_2, n_hidden_3])),\n",
        "    #'h4': tf.Variable(tf.random_normal([n_hidden_3, n_hidden_4])),\n",
        "    'out': tf.Variable(tf.random_normal([n_hidden_2, n_classes]))\n",
        "}\n",
        "\n",
        "biases = {\n",
        "    'b1': tf.Variable(tf.random_normal([n_hidden_1])),\n",
        "    'b2': tf.Variable(tf.random_normal([n_hidden_2])),\n",
        "    'b3': tf.Variable(tf.random_normal([n_hidden_3])),\n",
        "    #'b4': tf.Variable(tf.random_normal([n_hidden_4])),\n",
        "    'out':tf.Variable(tf.random_normal([n_classes]))\n",
        "}\n",
        "\n",
        "keep_prob = tf.placeholder(\"float\")"
      ],
      "execution_count": 0,
      "outputs": []
    },
    {
      "cell_type": "code",
      "metadata": {
        "id": "vEgkx4T0LkkS",
        "colab_type": "code",
        "colab": {}
      },
      "source": [
        "training_epochs = 5000\n",
        "display_step = 100\n",
        "batch_size = 32\n",
        "\n",
        "x = tf.placeholder(\"float\", [None, n_input])\n",
        "y = tf.placeholder(\"float\", [None,n_classes])"
      ],
      "execution_count": 0,
      "outputs": []
    },
    {
      "cell_type": "code",
      "metadata": {
        "id": "Ng7gwXmrLq5o",
        "colab_type": "code",
        "outputId": "13a7d130-4810-41f0-d22e-9e8c8be76e63",
        "colab": {
          "base_uri": "https://localhost:8080/",
          "height": 222
        }
      },
      "source": [
        "\n",
        "layer_1 = multilayer_perceptron(x, weights['h1'],biases['b1'], 0.5)\n",
        "layer_2 = multilayer_perceptron(layer_1, weights['h2'],biases['b2'], keep_prob)\n",
        "#layer_3 = multilayer_perceptron(layer_2, weights['h3'],biases['b3'], keep_prob)\n",
        "#layer_4 = multilayer_perceptron(layer_3, weights['h4'],biases['b4'], keep_prob)\n",
        "predictions = tf.matmul(layer_2,weights['out']) + biases['out']\n",
        "predictions=tf.nn.sigmoid(predictions)\n",
        "cost = tf.reduce_mean(tf.nn.softmax_cross_entropy_with_logits(logits=predictions, labels=y))\n",
        "optimizer = tf.train.AdamOptimizer(learning_rate=0.001).minimize(cost)"
      ],
      "execution_count": 0,
      "outputs": [
        {
          "output_type": "stream",
          "text": [
            "WARNING:tensorflow:From <ipython-input-38-d764307ff418>:4: calling dropout (from tensorflow.python.ops.nn_ops) with keep_prob is deprecated and will be removed in a future version.\n",
            "Instructions for updating:\n",
            "Please use `rate` instead of `keep_prob`. Rate should be set to `rate = 1 - keep_prob`.\n",
            "WARNING:tensorflow:From <ipython-input-41-39dbd2a7874e>:8: softmax_cross_entropy_with_logits (from tensorflow.python.ops.nn_ops) is deprecated and will be removed in a future version.\n",
            "Instructions for updating:\n",
            "\n",
            "Future major versions of TensorFlow will allow gradients to flow\n",
            "into the labels input on backprop by default.\n",
            "\n",
            "See `tf.nn.softmax_cross_entropy_with_logits_v2`.\n",
            "\n"
          ],
          "name": "stdout"
        }
      ]
    },
    {
      "cell_type": "code",
      "metadata": {
        "id": "GHMSDN0sLuD4",
        "colab_type": "code",
        "outputId": "de8698f5-611b-43d9-e35a-4bc850ac14b9",
        "colab": {
          "base_uri": "https://localhost:8080/",
          "height": 907
        }
      },
      "source": [
        "accuracy=\"\"\n",
        "with tf.device('/device:GPU:0'):\n",
        "  with tf.Session() as sess:\n",
        "      sess.run(tf.global_variables_initializer())\n",
        "      \n",
        "      for epoch in range(training_epochs):\n",
        "          avg_cost = 0.0\n",
        "          total_batch = int(len(x_train) / batch_size)\n",
        "          x_batches = np.array_split(x_train, total_batch)\n",
        "          y_batches = np.array_split(y_train, total_batch)\n",
        "          for i in range(total_batch):\n",
        "            _, c = sess.run([optimizer, cost],\n",
        "                            feed_dict={\n",
        "                                x: x_batches[i],\n",
        "                                y: y_batches[i],\n",
        "                                keep_prob: 0.8\n",
        "                              })\n",
        "            avg_cost += c / total_batch\n",
        "          if epoch % display_step == 0:\n",
        "              print(\"Epoch:\", '%04d' % (epoch+1), \"cost=\", \\\n",
        "                  \"{:.9f}\".format(avg_cost))\n",
        "      print(\"Optimization Finished!\")\n",
        "      correct_prediction = tf.equal(tf.argmax(predictions, 1), tf.argmax(y, 1))\n",
        "      accuracy = tf.reduce_mean(tf.cast(correct_prediction, \"float\"))\n",
        "      print(\"Accuracy:\", accuracy.eval({x: x_test, y: y_test, keep_prob: 1.0}))\n",
        "      \n",
        "      outcome=sess.run([predictions], feed_dict={x:scaled_df_test.values,keep_prob:0.8})\n",
        "      y_pred=tf.argmax(outcome[0],1)\n",
        "      print(\"----------------------------------------------\")\n",
        "      write_to_file(y_pred.eval(),\"nn.txt\")"
      ],
      "execution_count": 0,
      "outputs": [
        {
          "output_type": "stream",
          "text": [
            "Epoch: 0001 cost= 0.907587280\n",
            "Epoch: 0101 cost= 0.551238810\n",
            "Epoch: 0201 cost= 0.532068563\n",
            "Epoch: 0301 cost= 0.516883131\n",
            "Epoch: 0401 cost= 0.516419818\n",
            "Epoch: 0501 cost= 0.507463726\n",
            "Epoch: 0601 cost= 0.498539027\n",
            "Epoch: 0701 cost= 0.495926169\n",
            "Epoch: 0801 cost= 0.496229959\n",
            "Epoch: 0901 cost= 0.490294607\n",
            "Epoch: 1001 cost= 0.485962467\n",
            "Epoch: 1101 cost= 0.485225966\n",
            "Epoch: 1201 cost= 0.494072587\n",
            "Epoch: 1301 cost= 0.480874159\n",
            "Epoch: 1401 cost= 0.486086843\n",
            "Epoch: 1501 cost= 0.481234590\n",
            "Epoch: 1601 cost= 0.477293851\n",
            "Epoch: 1701 cost= 0.479976040\n",
            "Epoch: 1801 cost= 0.478290952\n",
            "Epoch: 1901 cost= 0.474497732\n",
            "Epoch: 2001 cost= 0.474776554\n",
            "Epoch: 2101 cost= 0.481683841\n",
            "Epoch: 2201 cost= 0.472004573\n",
            "Epoch: 2301 cost= 0.472555127\n",
            "Epoch: 2401 cost= 0.476821779\n",
            "Epoch: 2501 cost= 0.472921642\n",
            "Epoch: 2601 cost= 0.476328961\n",
            "Epoch: 2701 cost= 0.474170628\n",
            "Epoch: 2801 cost= 0.472433274\n",
            "Epoch: 2901 cost= 0.473067991\n",
            "Epoch: 3001 cost= 0.473289745\n",
            "Epoch: 3101 cost= 0.469806037\n",
            "Epoch: 3201 cost= 0.470354620\n",
            "Epoch: 3301 cost= 0.463064594\n",
            "Epoch: 3401 cost= 0.472250364\n",
            "Epoch: 3501 cost= 0.469237105\n",
            "Epoch: 3601 cost= 0.469807847\n",
            "Epoch: 3701 cost= 0.467756093\n",
            "Epoch: 3801 cost= 0.468854159\n",
            "Epoch: 3901 cost= 0.471708363\n",
            "Epoch: 4001 cost= 0.469605941\n",
            "Epoch: 4101 cost= 0.466110612\n",
            "Epoch: 4201 cost= 0.470239594\n",
            "Epoch: 4301 cost= 0.464349537\n",
            "Epoch: 4401 cost= 0.464164513\n",
            "Epoch: 4501 cost= 0.464979719\n",
            "Epoch: 4601 cost= 0.468375700\n",
            "Epoch: 4701 cost= 0.468051654\n",
            "Epoch: 4801 cost= 0.464758155\n",
            "Epoch: 4901 cost= 0.467802846\n",
            "Optimization Finished!\n",
            "Accuracy: 0.8333333\n",
            "----------------------------------------------\n"
          ],
          "name": "stdout"
        }
      ]
    },
    {
      "cell_type": "code",
      "metadata": {
        "id": "Zy6vDIzmL9TF",
        "colab_type": "code",
        "colab": {}
      },
      "source": [
        "# Get some classifiers to evaluate\n",
        "from sklearn.model_selection import cross_val_score\n",
        "from sklearn.ensemble import BaggingClassifier, ExtraTreesClassifier, RandomForestClassifier\n",
        "from sklearn.neighbors import KNeighborsClassifier\n",
        "from sklearn.linear_model import RidgeClassifier\n",
        "from sklearn.svm import SVC\n",
        "seed = 1075\n",
        "np.random.seed(seed)\n",
        "# Create classifiers\n",
        "rf = RandomForestClassifier()\n",
        "et = ExtraTreesClassifier()\n",
        "knn = KNeighborsClassifier()\n",
        "svc = SVC()\n",
        "rg = RidgeClassifier()\n",
        "clf_array = [rf, et, knn, svc, rg]\n",
        "for clf in clf_array:\n",
        "    print(\"------------------\"+\n",
        "          clf.__class__.__name__+\"-----------------------------\")\n",
        "    vanilla_scores = cross_val_score(clf, scaled_df_train, train_Y, cv=10, n_jobs=-1)\n",
        "    bagging_clf = BaggingClassifier(clf, \n",
        "       max_samples=0.4, max_features=3, random_state=seed)\n",
        "    bagging_scores = cross_val_score(bagging_clf, scaled_df_train, train_Y, cv=10,n_jobs=-1)\n",
        "    print(\"Mean of: {0:.3f}, std: (+/-) {1:.3f}\".format(\n",
        "        vanilla_scores.mean(), vanilla_scores.std()))\n",
        "    print(\"Mean of: {0:.3f}, std: (+/-) {1:.3f} [Bagging]\\n\".format(\n",
        "        bagging_scores.mean(), bagging_scores.std()))\n",
        "    print(\"-----------------------------------------------\")"
      ],
      "execution_count": 0,
      "outputs": []
    },
    {
      "cell_type": "code",
      "metadata": {
        "id": "vBdOEKG6sqFX",
        "colab_type": "code",
        "colab": {}
      },
      "source": [
        "from sklearn.ensemble import VotingClassifier\n",
        "clf = [rf, et, knn, svc, rg]\n",
        "eclf = VotingClassifier(estimators=[('Random Forests', rf), ('Extra Trees', et), ('KNeighbors', knn), ('SVC', svc), ('Ridge Classifier', rg)], voting='hard')\n",
        "for clf, label in zip([rf, et, knn, svc, rg, eclf], ['Random Forest', 'Extra Trees', 'KNeighbors', 'SVC', 'Ridge Classifier', 'Ensemble']):\n",
        "    scores = cross_val_score(clf, scaled_df_train, train_Y, cv=10, scoring='accuracy')\n",
        "    print(\"Accuracy: %0.2f (+/- %0.2f) [%s]\" % (scores.mean(), scores.std(), label))\n"
      ],
      "execution_count": 0,
      "outputs": []
    },
    {
      "cell_type": "code",
      "metadata": {
        "id": "CBNsrcux1hJy",
        "colab_type": "code",
        "colab": {}
      },
      "source": [
        "from itertools import combinations\n",
        "from sklearn.linear_model import LogisticRegression\n",
        "#!pip install mlens\n",
        "from mlens.ensemble import SuperLearner\n",
        "lr = LogisticRegression()\n",
        "names = ['Random Forest', 'Extra Trees', 'KNeighbors', 'SVC', 'Ridge Classifier']\n",
        "def zip_stacked_classifiers(*args):\n",
        "    to_zip = []\n",
        "    for arg in args:\n",
        "        combined_items = sum([list(combinations(arg, i)) for i in range(len(arg) + 1)]\n",
        "                             , [])\n",
        "        combined_items = filter(lambda x: len(x) > 0, combined_items)\n",
        "        to_zip.append(combined_items)\n",
        "    \n",
        "    return zip(to_zip[0], to_zip[1])\n",
        "stacked_clf_list = zip_stacked_classifiers(clf_array, names)\n",
        "best_combination = [0.00, \"\"]\n",
        "for clf in stacked_clf_list:\n",
        "    \n",
        "    ensemble = SuperLearner(scorer = accuracy, \n",
        "                            random_state = seed, \n",
        "                            folds = 10)\n",
        "    print(2,\"clif\",clf[0])\n",
        "    ensemble.add(clf[0])\n",
        "    print(3)\n",
        "    ensemble.add_meta(lr)\n",
        "    print(1)\n",
        "    ensemble.fit(scaled_df_train, y_train)\n",
        "    preds = ensemble.predict(X_test)\n",
        "    accuracy = accuracy_score(preds, y_test)\n",
        "    \n",
        "    if accuracy > best_combination[0]:\n",
        "        best_combination[0] = accuracy\n",
        "        best_combination[1] = clf[1]\n",
        "    \n",
        "    print(\"Accuracy score: {:.3f} {}\").format(accuracy, clf[1])\n",
        "print(\"\\nBest stacking model is {} with accuracy of: {:.3f}\").format(best_combination[1], best_combination[0])"
      ],
      "execution_count": 0,
      "outputs": []
    },
    {
      "cell_type": "code",
      "metadata": {
        "id": "YBQ3fpHC2wO5",
        "colab_type": "code",
        "colab": {}
      },
      "source": [
        ""
      ],
      "execution_count": 0,
      "outputs": []
    }
  ]
}